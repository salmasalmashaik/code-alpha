{
 "cells": [
  {
   "cell_type": "markdown",
   "id": "102f23a6",
   "metadata": {
    "papermill": {
     "duration": 0.008713,
     "end_time": "2022-07-31T11:54:57.893950",
     "exception": false,
     "start_time": "2022-07-31T11:54:57.885237",
     "status": "completed"
    },
    "tags": []
   },
   "source": [
    "# Handwritten Character Recognition with Neural Network\n",
    "\n",
    "This notebook contains code to build a deep learning model for recognizing handwritten characters, i.e, English alphabets from A-Z and 0-9.\n",
    "A neural network is modelled and trained over a dataset containing images of alphabets and numbers."
   ]
  },
  {
   "cell_type": "markdown",
   "id": "0a1833bd",
   "metadata": {
    "papermill": {
     "duration": 0.007636,
     "end_time": "2022-07-31T11:54:57.909807",
     "exception": false,
     "start_time": "2022-07-31T11:54:57.902171",
     "status": "completed"
    },
    "tags": []
   },
   "source": [
    "### Required Packages"
   ]
  },
  {
   "cell_type": "code",
   "execution_count": 1,
   "id": "846a5bee",
   "metadata": {
    "execution": {
     "iopub.execute_input": "2022-07-31T11:54:57.927277Z",
     "iopub.status.busy": "2022-07-31T11:54:57.926848Z",
     "iopub.status.idle": "2022-07-31T11:55:05.698199Z",
     "shell.execute_reply": "2022-07-31T11:55:05.696677Z"
    },
    "papermill": {
     "duration": 7.783953,
     "end_time": "2022-07-31T11:55:05.701494",
     "exception": false,
     "start_time": "2022-07-31T11:54:57.917541",
     "status": "completed"
    },
    "tags": []
   },
   "outputs": [],
   "source": [
    "import warnings\n",
    "warnings.filterwarnings('ignore')\n",
    "import os\n",
    "import matplotlib.pyplot as plt\n",
    "import seaborn as sns\n",
    "import cv2\n",
    "import numpy as np\n",
    "from keras.models import Sequential\n",
    "from keras.layers import Dense, Flatten, Conv2D, MaxPool2D, Dropout\n",
    "from tensorflow.keras.optimizers import SGD, Adam\n",
    "from keras.callbacks import ReduceLROnPlateau, EarlyStopping\n",
    "from tensorflow.keras.utils import to_categorical\n",
    "import pandas as pd\n",
    "import numpy as np\n",
    "from sklearn.model_selection import train_test_split\n",
    "from sklearn.utils import shuffle"
   ]
  },
  {
   "cell_type": "markdown",
   "id": "59955054",
   "metadata": {
    "papermill": {
     "duration": 0.007463,
     "end_time": "2022-07-31T11:55:05.716679",
     "exception": false,
     "start_time": "2022-07-31T11:55:05.709216",
     "status": "completed"
    },
    "tags": []
   },
   "source": [
    "### Data Fetching"
   ]
  },
  {
   "cell_type": "code",
   "execution_count": 2,
   "id": "b261bf6c",
   "metadata": {
    "execution": {
     "iopub.execute_input": "2022-07-31T11:55:05.735257Z",
     "iopub.status.busy": "2022-07-31T11:55:05.734161Z",
     "iopub.status.idle": "2022-07-31T11:55:47.501388Z",
     "shell.execute_reply": "2022-07-31T11:55:47.500191Z"
    },
    "papermill": {
     "duration": 41.788028,
     "end_time": "2022-07-31T11:55:47.512517",
     "exception": false,
     "start_time": "2022-07-31T11:55:05.724489",
     "status": "completed"
    },
    "tags": []
   },
   "outputs": [
    {
     "data": {
      "text/html": [
       "<div>\n",
       "<style scoped>\n",
       "    .dataframe tbody tr th:only-of-type {\n",
       "        vertical-align: middle;\n",
       "    }\n",
       "\n",
       "    .dataframe tbody tr th {\n",
       "        vertical-align: top;\n",
       "    }\n",
       "\n",
       "    .dataframe thead th {\n",
       "        text-align: right;\n",
       "    }\n",
       "</style>\n",
       "<table border=\"1\" class=\"dataframe\">\n",
       "  <thead>\n",
       "    <tr style=\"text-align: right;\">\n",
       "      <th></th>\n",
       "      <th>label</th>\n",
       "      <th>pixel0</th>\n",
       "      <th>pixel1</th>\n",
       "      <th>pixel2</th>\n",
       "      <th>pixel3</th>\n",
       "      <th>pixel4</th>\n",
       "      <th>pixel5</th>\n",
       "      <th>pixel6</th>\n",
       "      <th>pixel7</th>\n",
       "      <th>pixel8</th>\n",
       "      <th>...</th>\n",
       "      <th>pixel774</th>\n",
       "      <th>pixel775</th>\n",
       "      <th>pixel776</th>\n",
       "      <th>pixel777</th>\n",
       "      <th>pixel778</th>\n",
       "      <th>pixel779</th>\n",
       "      <th>pixel780</th>\n",
       "      <th>pixel781</th>\n",
       "      <th>pixel782</th>\n",
       "      <th>pixel783</th>\n",
       "    </tr>\n",
       "  </thead>\n",
       "  <tbody>\n",
       "    <tr>\n",
       "      <th>0</th>\n",
       "      <td>10</td>\n",
       "      <td>0</td>\n",
       "      <td>0</td>\n",
       "      <td>0</td>\n",
       "      <td>0</td>\n",
       "      <td>0</td>\n",
       "      <td>0</td>\n",
       "      <td>0</td>\n",
       "      <td>0</td>\n",
       "      <td>0</td>\n",
       "      <td>...</td>\n",
       "      <td>0</td>\n",
       "      <td>0</td>\n",
       "      <td>0</td>\n",
       "      <td>0</td>\n",
       "      <td>0</td>\n",
       "      <td>0</td>\n",
       "      <td>0</td>\n",
       "      <td>0</td>\n",
       "      <td>0</td>\n",
       "      <td>0</td>\n",
       "    </tr>\n",
       "    <tr>\n",
       "      <th>1</th>\n",
       "      <td>10</td>\n",
       "      <td>0</td>\n",
       "      <td>0</td>\n",
       "      <td>0</td>\n",
       "      <td>0</td>\n",
       "      <td>0</td>\n",
       "      <td>0</td>\n",
       "      <td>0</td>\n",
       "      <td>0</td>\n",
       "      <td>0</td>\n",
       "      <td>...</td>\n",
       "      <td>0</td>\n",
       "      <td>0</td>\n",
       "      <td>0</td>\n",
       "      <td>0</td>\n",
       "      <td>0</td>\n",
       "      <td>0</td>\n",
       "      <td>0</td>\n",
       "      <td>0</td>\n",
       "      <td>0</td>\n",
       "      <td>0</td>\n",
       "    </tr>\n",
       "    <tr>\n",
       "      <th>2</th>\n",
       "      <td>10</td>\n",
       "      <td>0</td>\n",
       "      <td>0</td>\n",
       "      <td>0</td>\n",
       "      <td>0</td>\n",
       "      <td>0</td>\n",
       "      <td>0</td>\n",
       "      <td>0</td>\n",
       "      <td>0</td>\n",
       "      <td>0</td>\n",
       "      <td>...</td>\n",
       "      <td>0</td>\n",
       "      <td>0</td>\n",
       "      <td>0</td>\n",
       "      <td>0</td>\n",
       "      <td>0</td>\n",
       "      <td>0</td>\n",
       "      <td>0</td>\n",
       "      <td>0</td>\n",
       "      <td>0</td>\n",
       "      <td>0</td>\n",
       "    </tr>\n",
       "    <tr>\n",
       "      <th>3</th>\n",
       "      <td>10</td>\n",
       "      <td>0</td>\n",
       "      <td>0</td>\n",
       "      <td>0</td>\n",
       "      <td>0</td>\n",
       "      <td>0</td>\n",
       "      <td>0</td>\n",
       "      <td>0</td>\n",
       "      <td>0</td>\n",
       "      <td>0</td>\n",
       "      <td>...</td>\n",
       "      <td>0</td>\n",
       "      <td>0</td>\n",
       "      <td>0</td>\n",
       "      <td>0</td>\n",
       "      <td>0</td>\n",
       "      <td>0</td>\n",
       "      <td>0</td>\n",
       "      <td>0</td>\n",
       "      <td>0</td>\n",
       "      <td>0</td>\n",
       "    </tr>\n",
       "    <tr>\n",
       "      <th>4</th>\n",
       "      <td>10</td>\n",
       "      <td>0</td>\n",
       "      <td>0</td>\n",
       "      <td>0</td>\n",
       "      <td>0</td>\n",
       "      <td>0</td>\n",
       "      <td>0</td>\n",
       "      <td>0</td>\n",
       "      <td>0</td>\n",
       "      <td>0</td>\n",
       "      <td>...</td>\n",
       "      <td>0</td>\n",
       "      <td>0</td>\n",
       "      <td>0</td>\n",
       "      <td>0</td>\n",
       "      <td>0</td>\n",
       "      <td>0</td>\n",
       "      <td>0</td>\n",
       "      <td>0</td>\n",
       "      <td>0</td>\n",
       "      <td>0</td>\n",
       "    </tr>\n",
       "  </tbody>\n",
       "</table>\n",
       "<p>5 rows × 785 columns</p>\n",
       "</div>"
      ],
      "text/plain": [
       "   label  pixel0  pixel1  pixel2  pixel3  pixel4  pixel5  pixel6  pixel7  \\\n",
       "0     10       0       0       0       0       0       0       0       0   \n",
       "1     10       0       0       0       0       0       0       0       0   \n",
       "2     10       0       0       0       0       0       0       0       0   \n",
       "3     10       0       0       0       0       0       0       0       0   \n",
       "4     10       0       0       0       0       0       0       0       0   \n",
       "\n",
       "   pixel8  ...  pixel774  pixel775  pixel776  pixel777  pixel778  pixel779  \\\n",
       "0       0  ...         0         0         0         0         0         0   \n",
       "1       0  ...         0         0         0         0         0         0   \n",
       "2       0  ...         0         0         0         0         0         0   \n",
       "3       0  ...         0         0         0         0         0         0   \n",
       "4       0  ...         0         0         0         0         0         0   \n",
       "\n",
       "   pixel780  pixel781  pixel782  pixel783  \n",
       "0         0         0         0         0  \n",
       "1         0         0         0         0  \n",
       "2         0         0         0         0  \n",
       "3         0         0         0         0  \n",
       "4         0         0         0         0  \n",
       "\n",
       "[5 rows x 785 columns]"
      ]
     },
     "execution_count": 2,
     "metadata": {},
     "output_type": "execute_result"
    }
   ],
   "source": [
    "# alphabet dataset\n",
    "df1 = pd.read_csv(\"../input/az-handwritten-alphabets-in-csv-format/A_Z Handwritten Data.csv\")\n",
    "\n",
    "# digit dataset\n",
    "df2 = pd.read_csv(\"../input/digit-recognizer/train.csv\")\n",
    "\n",
    "# combining both the datasets to get a single data set\n",
    "df1['0'] = df1['0']+10\n",
    "df1.columns = df2.columns\n",
    "frames = [df1, df2]  \n",
    "df = pd.concat(frames)\n",
    "df.head()"
   ]
  },
  {
   "cell_type": "markdown",
   "id": "985dbd2b",
   "metadata": {
    "papermill": {
     "duration": 0.007697,
     "end_time": "2022-07-31T11:55:47.527961",
     "exception": false,
     "start_time": "2022-07-31T11:55:47.520264",
     "status": "completed"
    },
    "tags": []
   },
   "source": [
    "### Feature Selections"
   ]
  },
  {
   "cell_type": "code",
   "execution_count": 3,
   "id": "0f34e360",
   "metadata": {
    "execution": {
     "iopub.execute_input": "2022-07-31T11:55:47.546167Z",
     "iopub.status.busy": "2022-07-31T11:55:47.545551Z",
     "iopub.status.idle": "2022-07-31T11:55:48.663989Z",
     "shell.execute_reply": "2022-07-31T11:55:48.662515Z"
    },
    "papermill": {
     "duration": 1.131024,
     "end_time": "2022-07-31T11:55:48.667011",
     "exception": false,
     "start_time": "2022-07-31T11:55:47.535987",
     "status": "completed"
    },
    "tags": []
   },
   "outputs": [],
   "source": [
    "X = df.drop('label',axis = 1) #feautures\n",
    "y = df['label'] #target"
   ]
  },
  {
   "cell_type": "markdown",
   "id": "48ccceb8",
   "metadata": {
    "papermill": {
     "duration": 0.008192,
     "end_time": "2022-07-31T11:55:48.683232",
     "exception": false,
     "start_time": "2022-07-31T11:55:48.675040",
     "status": "completed"
    },
    "tags": []
   },
   "source": [
    "### Data Splitting"
   ]
  },
  {
   "cell_type": "code",
   "execution_count": 4,
   "id": "b3344c02",
   "metadata": {
    "execution": {
     "iopub.execute_input": "2022-07-31T11:55:48.701904Z",
     "iopub.status.busy": "2022-07-31T11:55:48.701246Z",
     "iopub.status.idle": "2022-07-31T11:55:52.183516Z",
     "shell.execute_reply": "2022-07-31T11:55:52.181959Z"
    },
    "papermill": {
     "duration": 3.495676,
     "end_time": "2022-07-31T11:55:52.187346",
     "exception": false,
     "start_time": "2022-07-31T11:55:48.691670",
     "status": "completed"
    },
    "tags": []
   },
   "outputs": [
    {
     "name": "stdout",
     "output_type": "stream",
     "text": [
      "Train data shape:  (331560, 28, 28)\n",
      "Test data shape:  (82890, 28, 28)\n"
     ]
    }
   ],
   "source": [
    "train_x, test_x, train_y, test_y = train_test_split(X, y, test_size = 0.2)\n",
    "\n",
    "train_x = np.reshape(train_x.values, (train_x.shape[0], 28,28))\n",
    "test_x = np.reshape(test_x.values, (test_x.shape[0], 28,28))\n",
    "\n",
    "print(\"Train data shape: \", train_x.shape)\n",
    "print(\"Test data shape: \", test_x.shape)"
   ]
  },
  {
   "cell_type": "markdown",
   "id": "f652612a",
   "metadata": {
    "papermill": {
     "duration": 0.007705,
     "end_time": "2022-07-31T11:55:52.203574",
     "exception": false,
     "start_time": "2022-07-31T11:55:52.195869",
     "status": "completed"
    },
    "tags": []
   },
   "source": [
    "### Exploratory Data Analysis"
   ]
  },
  {
   "cell_type": "code",
   "execution_count": 5,
   "id": "2d25d13f",
   "metadata": {
    "execution": {
     "iopub.execute_input": "2022-07-31T11:55:52.221573Z",
     "iopub.status.busy": "2022-07-31T11:55:52.220797Z",
     "iopub.status.idle": "2022-07-31T11:55:54.190664Z",
     "shell.execute_reply": "2022-07-31T11:55:54.189208Z"
    },
    "papermill": {
     "duration": 1.981748,
     "end_time": "2022-07-31T11:55:54.193276",
     "exception": false,
     "start_time": "2022-07-31T11:55:52.211528",
     "status": "completed"
    },
    "tags": []
   },
   "outputs": [
    {
     "data": {
      "text/html": [
       "<div>\n",
       "<style scoped>\n",
       "    .dataframe tbody tr th:only-of-type {\n",
       "        vertical-align: middle;\n",
       "    }\n",
       "\n",
       "    .dataframe tbody tr th {\n",
       "        vertical-align: top;\n",
       "    }\n",
       "\n",
       "    .dataframe thead th {\n",
       "        text-align: right;\n",
       "    }\n",
       "</style>\n",
       "<table border=\"1\" class=\"dataframe\">\n",
       "  <thead>\n",
       "    <tr style=\"text-align: right;\">\n",
       "      <th></th>\n",
       "      <th>Total</th>\n",
       "      <th>Percent</th>\n",
       "    </tr>\n",
       "  </thead>\n",
       "  <tbody>\n",
       "    <tr>\n",
       "      <th>label</th>\n",
       "      <td>0</td>\n",
       "      <td>0.0</td>\n",
       "    </tr>\n",
       "    <tr>\n",
       "      <th>pixel515</th>\n",
       "      <td>0</td>\n",
       "      <td>0.0</td>\n",
       "    </tr>\n",
       "    <tr>\n",
       "      <th>pixel517</th>\n",
       "      <td>0</td>\n",
       "      <td>0.0</td>\n",
       "    </tr>\n",
       "    <tr>\n",
       "      <th>pixel518</th>\n",
       "      <td>0</td>\n",
       "      <td>0.0</td>\n",
       "    </tr>\n",
       "    <tr>\n",
       "      <th>pixel519</th>\n",
       "      <td>0</td>\n",
       "      <td>0.0</td>\n",
       "    </tr>\n",
       "    <tr>\n",
       "      <th>...</th>\n",
       "      <td>...</td>\n",
       "      <td>...</td>\n",
       "    </tr>\n",
       "    <tr>\n",
       "      <th>pixel263</th>\n",
       "      <td>0</td>\n",
       "      <td>0.0</td>\n",
       "    </tr>\n",
       "    <tr>\n",
       "      <th>pixel264</th>\n",
       "      <td>0</td>\n",
       "      <td>0.0</td>\n",
       "    </tr>\n",
       "    <tr>\n",
       "      <th>pixel265</th>\n",
       "      <td>0</td>\n",
       "      <td>0.0</td>\n",
       "    </tr>\n",
       "    <tr>\n",
       "      <th>pixel266</th>\n",
       "      <td>0</td>\n",
       "      <td>0.0</td>\n",
       "    </tr>\n",
       "    <tr>\n",
       "      <th>pixel783</th>\n",
       "      <td>0</td>\n",
       "      <td>0.0</td>\n",
       "    </tr>\n",
       "  </tbody>\n",
       "</table>\n",
       "<p>785 rows × 2 columns</p>\n",
       "</div>"
      ],
      "text/plain": [
       "          Total  Percent\n",
       "label         0      0.0\n",
       "pixel515      0      0.0\n",
       "pixel517      0      0.0\n",
       "pixel518      0      0.0\n",
       "pixel519      0      0.0\n",
       "...         ...      ...\n",
       "pixel263      0      0.0\n",
       "pixel264      0      0.0\n",
       "pixel265      0      0.0\n",
       "pixel266      0      0.0\n",
       "pixel783      0      0.0\n",
       "\n",
       "[785 rows x 2 columns]"
      ]
     },
     "execution_count": 5,
     "metadata": {},
     "output_type": "execute_result"
    }
   ],
   "source": [
    "# check for missing data\n",
    "def missing_data(data):\n",
    "    total = data.isnull().sum().sort_values(ascending = False)\n",
    "    percent = (data.isnull().sum()/data.isnull().count()*100).sort_values(ascending = False)\n",
    "    return pd.concat([total, percent], axis=1, keys=['Total', 'Percent'])\n",
    "missing_data(df)"
   ]
  },
  {
   "cell_type": "code",
   "execution_count": 6,
   "id": "b6152fff",
   "metadata": {
    "execution": {
     "iopub.execute_input": "2022-07-31T11:55:54.212341Z",
     "iopub.status.busy": "2022-07-31T11:55:54.211908Z",
     "iopub.status.idle": "2022-07-31T11:55:55.044129Z",
     "shell.execute_reply": "2022-07-31T11:55:55.043146Z"
    },
    "papermill": {
     "duration": 0.844182,
     "end_time": "2022-07-31T11:55:55.046381",
     "exception": false,
     "start_time": "2022-07-31T11:55:54.202199",
     "status": "completed"
    },
    "tags": []
   },
   "outputs": [
    {
     "data": {
      "image/png": "[encoded data removed]",
      "text/plain": [
       "<Figure size 1080x1080 with 1 Axes>"
      ]
     },
     "metadata": {
      "needs_background": "light"
     },
     "output_type": "display_data"
    }
   ],
   "source": [
    "# checking Characters distribution\n",
    "word_dict = {0:'0',1:'1',2:'2',3:'3',4:'4',5:'5',6:'6',7:'7',8:'8',9:'9',10:'A',11:'B',12:'C',13:'D',14:'E',15:'F',16:'G',17:'H',18:'I',19:'J',20:'K',21:'L',22:'M',23:'N',24:'O',25:'P',26:'Q',27:'R',28:'S',29:'T',30:'U',31:'V',32:'W',33:'X', 34:'Y',35:'Z'}\n",
    "y_int = np.int0(y)\n",
    "count = np.zeros(36, dtype='int')\n",
    "for i in y_int:\n",
    "    count[i] +=1\n",
    "\n",
    "alphabets = []\n",
    "for i in word_dict.values():\n",
    "    alphabets.append(i)\n",
    "\n",
    "fig, ax = plt.subplots(1,1, figsize=(15,15))\n",
    "ax.barh(alphabets, count)\n",
    "\n",
    "plt.xlabel(\"Number of elements \")\n",
    "plt.ylabel(\"Characters\")\n",
    "plt.grid()\n",
    "plt.show()"
   ]
  },
  {
   "cell_type": "code",
   "execution_count": 7,
   "id": "cceabfc3",
   "metadata": {
    "execution": {
     "iopub.execute_input": "2022-07-31T11:55:55.066221Z",
     "iopub.status.busy": "2022-07-31T11:55:55.065660Z",
     "iopub.status.idle": "2022-07-31T11:56:01.692490Z",
     "shell.execute_reply": "2022-07-31T11:56:01.691209Z"
    },
    "papermill": {
     "duration": 6.640083,
     "end_time": "2022-07-31T11:56:01.695107",
     "exception": false,
     "start_time": "2022-07-31T11:55:55.055024",
     "status": "completed"
    },
    "tags": []
   },
   "outputs": [
    {
     "data": {
      "image/png": "[encoded data removed]",
      "text/plain": [
       "<Figure size 720x720 with 9 Axes>"
      ]
     },
     "metadata": {
      "needs_background": "light"
     },
     "output_type": "display_data"
    }
   ],
   "source": [
    "# printing some shuffled samples\n",
    "\n",
    "shuff = shuffle(train_x[:-100])\n",
    "shuff = shuff.astype(np.uint8)\n",
    "fig, ax = plt.subplots(3,3, figsize = (10,10))\n",
    "axes = ax.flatten()\n",
    "\n",
    "for i in range(9):\n",
    "    _, shu = cv2.threshold(shuff[i], 30, 200, cv2.THRESH_BINARY)\n",
    "    axes[i].imshow(np.reshape(shuff[i], (28,28)), cmap=\"Greys\")\n",
    "plt.show()"
   ]
  },
  {
   "cell_type": "markdown",
   "id": "f78d86c6",
   "metadata": {
    "papermill": {
     "duration": 0.00901,
     "end_time": "2022-07-31T11:56:01.713527",
     "exception": false,
     "start_time": "2022-07-31T11:56:01.704517",
     "status": "completed"
    },
    "tags": []
   },
   "source": [
    "### Data Preprocessing"
   ]
  },
  {
   "cell_type": "code",
   "execution_count": 8,
   "id": "aa306aec",
   "metadata": {
    "execution": {
     "iopub.execute_input": "2022-07-31T11:56:01.734165Z",
     "iopub.status.busy": "2022-07-31T11:56:01.733746Z",
     "iopub.status.idle": "2022-07-31T11:56:01.741416Z",
     "shell.execute_reply": "2022-07-31T11:56:01.740069Z"
    },
    "papermill": {
     "duration": 0.022358,
     "end_time": "2022-07-31T11:56:01.745263",
     "exception": false,
     "start_time": "2022-07-31T11:56:01.722905",
     "status": "completed"
    },
    "tags": []
   },
   "outputs": [
    {
     "name": "stdout",
     "output_type": "stream",
     "text": [
      "New shape of train data:  (331560, 28, 28, 1)\n",
      "New shape of train data:  (82890, 28, 28, 1)\n"
     ]
    }
   ],
   "source": [
    "train_X = train_x.reshape(train_x.shape[0],train_x.shape[1],train_x.shape[2],1)\n",
    "print(\"New shape of train data: \", train_X.shape)\n",
    "test_X = test_x.reshape(test_x.shape[0], test_x.shape[1], test_x.shape[2],1)\n",
    "print(\"New shape of train data: \", test_X.shape)"
   ]
  },
  {
   "cell_type": "code",
   "execution_count": 9,
   "id": "f31e4712",
   "metadata": {
    "execution": {
     "iopub.execute_input": "2022-07-31T11:56:01.767007Z",
     "iopub.status.busy": "2022-07-31T11:56:01.766635Z",
     "iopub.status.idle": "2022-07-31T11:56:01.839844Z",
     "shell.execute_reply": "2022-07-31T11:56:01.838025Z"
    },
    "papermill": {
     "duration": 0.086353,
     "end_time": "2022-07-31T11:56:01.842275",
     "exception": false,
     "start_time": "2022-07-31T11:56:01.755922",
     "status": "completed"
    },
    "tags": []
   },
   "outputs": [
    {
     "name": "stdout",
     "output_type": "stream",
     "text": [
      "New shape of train labels:  (331560, 36)\n",
      "New shape of test labels:  (82890, 36)\n"
     ]
    }
   ],
   "source": [
    "train_yOHE = to_categorical(train_y, num_classes = 36, dtype='int')\n",
    "print(\"New shape of train labels: \", train_yOHE.shape)\n",
    "test_yOHE = to_categorical(test_y, num_classes = 36, dtype='int')\n",
    "print(\"New shape of test labels: \", test_yOHE.shape)"
   ]
  },
  {
   "cell_type": "markdown",
   "id": "c79c43da",
   "metadata": {
    "papermill": {
     "duration": 0.00924,
     "end_time": "2022-07-31T11:56:01.861228",
     "exception": false,
     "start_time": "2022-07-31T11:56:01.851988",
     "status": "completed"
    },
    "tags": []
   },
   "source": [
    "### Model"
   ]
  },
  {
   "cell_type": "code",
   "execution_count": 10,
   "id": "a53a1006",
   "metadata": {
    "execution": {
     "iopub.execute_input": "2022-07-31T11:56:01.882643Z",
     "iopub.status.busy": "2022-07-31T11:56:01.882229Z",
     "iopub.status.idle": "2022-07-31T11:56:02.108518Z",
     "shell.execute_reply": "2022-07-31T11:56:02.106386Z"
    },
    "papermill": {
     "duration": 0.241017,
     "end_time": "2022-07-31T11:56:02.112060",
     "exception": false,
     "start_time": "2022-07-31T11:56:01.871043",
     "status": "completed"
    },
    "tags": []
   },
   "outputs": [
    {
     "name": "stderr",
     "output_type": "stream",
     "text": [
      "2022-07-31 11:56:01.937408: I tensorflow/core/common_runtime/process_util.cc:146] Creating new thread pool with default inter op setting: 2. Tune using inter_op_parallelism_threads for best performance.\n"
     ]
    }
   ],
   "source": [
    "model = Sequential()\n",
    "\n",
    "model.add(Conv2D(filters=32, kernel_size=(3, 3), activation='relu', input_shape=(28,28,1)))\n",
    "model.add(MaxPool2D(pool_size=(2, 2), strides=2))\n",
    "\n",
    "model.add(Conv2D(filters=64, kernel_size=(3, 3), activation='relu', padding = 'same'))\n",
    "model.add(MaxPool2D(pool_size=(2, 2), strides=2))\n",
    "\n",
    "model.add(Conv2D(filters=128, kernel_size=(3, 3), activation='relu', padding = 'valid'))\n",
    "model.add(MaxPool2D(pool_size=(2, 2), strides=2))\n",
    "\n",
    "model.add(Flatten())\n",
    "\n",
    "model.add(Dense(64,activation =\"relu\"))\n",
    "model.add(Dense(128,activation =\"relu\"))\n",
    "\n",
    "model.add(Dense(36,activation =\"softmax\"))"
   ]
  },
  {
   "cell_type": "code",
   "execution_count": 11,
   "id": "e1114d49",
   "metadata": {
    "execution": {
     "iopub.execute_input": "2022-07-31T11:56:02.134124Z",
     "iopub.status.busy": "2022-07-31T11:56:02.133563Z",
     "iopub.status.idle": "2022-07-31T12:13:11.532225Z",
     "shell.execute_reply": "2022-07-31T12:13:11.531076Z"
    },
    "papermill": {
     "duration": 1029.41354,
     "end_time": "2022-07-31T12:13:11.535641",
     "exception": false,
     "start_time": "2022-07-31T11:56:02.122101",
     "status": "completed"
    },
    "tags": []
   },
   "outputs": [
    {
     "name": "stderr",
     "output_type": "stream",
     "text": [
      "2022-07-31 11:56:05.545251: I tensorflow/compiler/mlir/mlir_graph_optimization_pass.cc:185] None of the MLIR Optimization Passes are enabled (registered 2)\n"
     ]
    },
    {
     "name": "stdout",
     "output_type": "stream",
     "text": [
      "Epoch 1/5\n",
      "10362/10362 [==============================] - 208s 20ms/step - loss: 0.2375 - accuracy: 0.9342 - val_loss: 0.1286 - val_accuracy: 0.9633\n",
      "Epoch 2/5\n",
      "10362/10362 [==============================] - 209s 20ms/step - loss: 0.1141 - accuracy: 0.9681 - val_loss: 0.1098 - val_accuracy: 0.9711\n",
      "Epoch 3/5\n",
      "10362/10362 [==============================] - 203s 20ms/step - loss: 0.0955 - accuracy: 0.9737 - val_loss: 0.1176 - val_accuracy: 0.9694\n",
      "Epoch 4/5\n",
      "10362/10362 [==============================] - 206s 20ms/step - loss: 0.0872 - accuracy: 0.9761 - val_loss: 0.1009 - val_accuracy: 0.9722\n",
      "Epoch 5/5\n",
      "10362/10362 [==============================] - 201s 19ms/step - loss: 0.0819 - accuracy: 0.9774 - val_loss: 0.0951 - val_accuracy: 0.9751\n"
     ]
    }
   ],
   "source": [
    "model.compile(optimizer = Adam(learning_rate=0.001), loss='categorical_crossentropy', metrics=['accuracy'])\n",
    "\n",
    "history = model.fit(train_X, train_yOHE, epochs=5,  validation_data = (test_X,test_yOHE))"
   ]
  },
  {
   "cell_type": "code",
   "execution_count": 12,
   "id": "6edd621b",
   "metadata": {
    "execution": {
     "iopub.execute_input": "2022-07-31T12:13:14.283779Z",
     "iopub.status.busy": "2022-07-31T12:13:14.283089Z",
     "iopub.status.idle": "2022-07-31T12:13:14.292031Z",
     "shell.execute_reply": "2022-07-31T12:13:14.289859Z"
    },
    "papermill": {
     "duration": 1.424942,
     "end_time": "2022-07-31T12:13:14.294629",
     "exception": false,
     "start_time": "2022-07-31T12:13:12.869687",
     "status": "completed"
    },
    "tags": []
   },
   "outputs": [
    {
     "name": "stdout",
     "output_type": "stream",
     "text": [
      "Model: \"sequential\"\n",
      "_________________________________________________________________\n",
      "Layer (type)                 Output Shape              Param #   \n",
      "=================================================================\n",
      "conv2d (Conv2D)              (None, 26, 26, 32)        320       \n",
      "_________________________________________________________________\n",
      "max_pooling2d (MaxPooling2D) (None, 13, 13, 32)        0         \n",
      "_________________________________________________________________\n",
      "conv2d_1 (Conv2D)            (None, 13, 13, 64)        18496     \n",
      "_________________________________________________________________\n",
      "max_pooling2d_1 (MaxPooling2 (None, 6, 6, 64)          0         \n",
      "_________________________________________________________________\n",
      "conv2d_2 (Conv2D)            (None, 4, 4, 128)         73856     \n",
      "_________________________________________________________________\n",
      "max_pooling2d_2 (MaxPooling2 (None, 2, 2, 128)         0         \n",
      "_________________________________________________________________\n",
      "flatten (Flatten)            (None, 512)               0         \n",
      "_________________________________________________________________\n",
      "dense (Dense)                (None, 64)                32832     \n",
      "_________________________________________________________________\n",
      "dense_1 (Dense)              (None, 128)               8320      \n",
      "_________________________________________________________________\n",
      "dense_2 (Dense)              (None, 36)                4644      \n",
      "=================================================================\n",
      "Total params: 138,468\n",
      "Trainable params: 138,468\n",
      "Non-trainable params: 0\n",
      "_________________________________________________________________\n"
     ]
    }
   ],
   "source": [
    "model.summary()"
   ]
  },
  {
   "cell_type": "markdown",
   "id": "be15505f",
   "metadata": {
    "papermill": {
     "duration": 1.333968,
     "end_time": "2022-07-31T12:13:16.905466",
     "exception": false,
     "start_time": "2022-07-31T12:13:15.571498",
     "status": "completed"
    },
    "tags": []
   },
   "source": [
    "### Accuracy Metrics"
   ]
  },
  {
   "cell_type": "code",
   "execution_count": 13,
   "id": "12109b22",
   "metadata": {
    "execution": {
     "iopub.execute_input": "2022-07-31T12:13:19.651683Z",
     "iopub.status.busy": "2022-07-31T12:13:19.650789Z",
     "iopub.status.idle": "2022-07-31T12:13:19.658732Z",
     "shell.execute_reply": "2022-07-31T12:13:19.657682Z"
    },
    "papermill": {
     "duration": 1.412402,
     "end_time": "2022-07-31T12:13:19.662146",
     "exception": false,
     "start_time": "2022-07-31T12:13:18.249744",
     "status": "completed"
    },
    "tags": []
   },
   "outputs": [
    {
     "name": "stdout",
     "output_type": "stream",
     "text": [
      "The validation accuracy is : 96.33007645606995\n",
      "The training accuracy is : 93.42200756072998\n",
      "The validation loss is : 12.860813736915588\n",
      "The training loss is : 23.747697472572327\n"
     ]
    }
   ],
   "source": [
    "print(\"The validation accuracy is :\", history.history['val_accuracy'][0]*100)\n",
    "print(\"The training accuracy is :\", history.history['accuracy'][0]*100)\n",
    "print(\"The validation loss is :\", history.history['val_loss'][0]*100)\n",
    "print(\"The training loss is :\", history.history['loss'][0]*100)"
   ]
  },
  {
   "cell_type": "code",
   "execution_count": 14,
   "id": "788a7a1d",
   "metadata": {
    "execution": {
     "iopub.execute_input": "2022-07-31T12:13:22.297941Z",
     "iopub.status.busy": "2022-07-31T12:13:22.297563Z",
     "iopub.status.idle": "2022-07-31T12:13:39.687189Z",
     "shell.execute_reply": "2022-07-31T12:13:39.685753Z"
    },
    "papermill": {
     "duration": 18.721395,
     "end_time": "2022-07-31T12:13:39.690611",
     "exception": false,
     "start_time": "2022-07-31T12:13:20.969216",
     "status": "completed"
    },
    "tags": []
   },
   "outputs": [
    {
     "name": "stdout",
     "output_type": "stream",
     "text": [
      "Test loss: 9.505309909582138%\n",
      "Test score: 97.5099503993988%\n",
      "MLP Error: 2.49%\n"
     ]
    }
   ],
   "source": [
    "score = model.evaluate(test_X,test_yOHE, verbose = 0)\n",
    "print('Test loss: {}%'.format(score[0] * 100))\n",
    "print('Test score: {}%'.format(score[1] * 100))\n",
    "\n",
    "print(\"MLP Error: %.2f%%\" % (100 - score[1] * 100))"
   ]
  },
  {
   "cell_type": "markdown",
   "id": "f938e556",
   "metadata": {
    "papermill": {
     "duration": 1.324111,
     "end_time": "2022-07-31T12:13:42.376420",
     "exception": false,
     "start_time": "2022-07-31T12:13:41.052309",
     "status": "completed"
    },
    "tags": []
   },
   "source": [
    "### Learning Curve"
   ]
  },
  {
   "cell_type": "code",
   "execution_count": 15,
   "id": "20159bbb",
   "metadata": {
    "execution": {
     "iopub.execute_input": "2022-07-31T12:13:44.955754Z",
     "iopub.status.busy": "2022-07-31T12:13:44.955048Z",
     "iopub.status.idle": "2022-07-31T12:13:45.439409Z",
     "shell.execute_reply": "2022-07-31T12:13:45.438365Z"
    },
    "papermill": {
     "duration": 1.807947,
     "end_time": "2022-07-31T12:13:45.442820",
     "exception": false,
     "start_time": "2022-07-31T12:13:43.634873",
     "status": "completed"
    },
    "tags": []
   },
   "outputs": [
    {
     "data": {
      "image/png": "[encoded data removed]",
      "text/plain": [
       "<Figure size 1440x576 with 2 Axes>"
      ]
     },
     "metadata": {
      "needs_background": "light"
     },
     "output_type": "display_data"
    }
   ],
   "source": [
    "def draw_learning_curve(history, keys=['accuracy', 'loss']):\n",
    "    plt.figure(figsize=(20,8))\n",
    "    for i, key in enumerate(keys):\n",
    "        plt.subplot(1, 2, i + 1)\n",
    "        sns.lineplot(x = history.epoch, y = history.history[key])\n",
    "        sns.lineplot(x = history.epoch, y = history.history['val_' + key])\n",
    "        plt.title('Learning Curve')\n",
    "        plt.ylabel(key.title())\n",
    "        plt.xlabel('Epoch')\n",
    "#         plt.ylim(ylim)\n",
    "        plt.legend(['train', 'test'], loc='best')\n",
    "    plt.show()\n",
    "draw_learning_curve(history)"
   ]
  },
  {
   "cell_type": "markdown",
   "id": "c53e7202",
   "metadata": {
    "papermill": {
     "duration": 1.330795,
     "end_time": "2022-07-31T12:13:48.117066",
     "exception": false,
     "start_time": "2022-07-31T12:13:46.786271",
     "status": "completed"
    },
    "tags": []
   },
   "source": [
    "### Predictions"
   ]
  },
  {
   "cell_type": "code",
   "execution_count": 16,
   "id": "ff1071e5",
   "metadata": {
    "execution": {
     "iopub.execute_input": "2022-07-31T12:13:50.712151Z",
     "iopub.status.busy": "2022-07-31T12:13:50.711696Z",
     "iopub.status.idle": "2022-07-31T12:13:52.008471Z",
     "shell.execute_reply": "2022-07-31T12:13:52.007062Z"
    },
    "papermill": {
     "duration": 2.629762,
     "end_time": "2022-07-31T12:13:52.011345",
     "exception": false,
     "start_time": "2022-07-31T12:13:49.381583",
     "status": "completed"
    },
    "tags": []
   },
   "outputs": [
    {
     "data": {
      "image/png": "[encoded data removed]",
      "text/plain": [
       "<Figure size 576x648 with 9 Axes>"
      ]
     },
     "metadata": {
      "needs_background": "light"
     },
     "output_type": "display_data"
    }
   ],
   "source": [
    "fig, axes = plt.subplots(3,3, figsize=(8,9))\n",
    "axes = axes.flatten()\n",
    "for i,ax in enumerate(axes):\n",
    "    img = np.reshape(test_X[i], (28,28))\n",
    "    ax.imshow(img, cmap=\"Greys\")\n",
    "    \n",
    "    pred = word_dict[np.argmax(test_yOHE[i])]\n",
    "    ax.set_title(\"Prediction: \"+pred)\n",
    "    ax.grid()"
   ]
  },
  {
   "cell_type": "markdown",
   "id": "5c3e8964",
   "metadata": {
    "papermill": {
     "duration": 1.332664,
     "end_time": "2022-07-31T12:13:54.682531",
     "exception": false,
     "start_time": "2022-07-31T12:13:53.349867",
     "status": "completed"
    },
    "tags": []
   },
   "source": [
    "### Saving Model"
   ]
  },
  {
   "cell_type": "code",
   "execution_count": 17,
   "id": "6d9d0c33",
   "metadata": {
    "execution": {
     "iopub.execute_input": "2022-07-31T12:13:57.320407Z",
     "iopub.status.busy": "2022-07-31T12:13:57.319950Z",
     "iopub.status.idle": "2022-07-31T12:13:57.390753Z",
     "shell.execute_reply": "2022-07-31T12:13:57.389522Z"
    },
    "papermill": {
     "duration": 1.451312,
     "end_time": "2022-07-31T12:13:57.393898",
     "exception": false,
     "start_time": "2022-07-31T12:13:55.942586",
     "status": "completed"
    },
    "tags": []
   },
   "outputs": [],
   "source": [
    "model.save(r'model_hand.h5')"
   ]
  }
 ],
 "metadata": {
  "kernelspec": {
   "display_name": "Python 3",
   "language": "python",
   "name": "python3"
  },
  "language_info": {
   "codemirror_mode": {
    "name": "ipython",
    "version": 3
   },
   "file_extension": ".py",
   "mimetype": "text/x-python",
   "name": "python",
   "nbconvert_exporter": "python",
   "pygments_lexer": "ipython3",
   "version": "3.7.12"
  },
  "papermill": {
   "default_parameters": {},
   "duration": 1154.813251,
   "end_time": "2022-07-31T12:14:02.707822",
   "environment_variables": {},
   "exception": null,
   "input_path": "__notebook__.ipynb",
   "output_path": "__notebook__.ipynb",
   "parameters": {},
   "start_time": "2022-07-31T11:54:47.894571",
   "version": "2.3.4"
  }
 },
 "nbformat": 4,
 "nbformat_minor": 5
}
